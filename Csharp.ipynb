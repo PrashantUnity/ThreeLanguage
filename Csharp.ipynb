{
 "cells": [
  {
   "cell_type": "code",
   "execution_count": 1,
   "metadata": {
    "dotnet_interactive": {
     "language": "csharp"
    },
    "polyglot_notebook": {
     "kernelName": "csharp"
    },
    "vscode": {
     "languageId": "polyglot-notebook"
    }
   },
   "outputs": [],
   "source": [
    "using System;"
   ]
  },
  {
   "cell_type": "markdown",
   "metadata": {},
   "source": [
    "Prints a something into the console."
   ]
  },
  {
   "cell_type": "code",
   "execution_count": 2,
   "metadata": {
    "dotnet_interactive": {
     "language": "csharp"
    },
    "polyglot_notebook": {
     "kernelName": "csharp"
    },
    "vscode": {
     "languageId": "polyglot-notebook"
    }
   },
   "outputs": [
    {
     "name": "stdout",
     "output_type": "stream",
     "text": [
      "Hello World\r\n"
     ]
    }
   ],
   "source": [
    "Console.WriteLine(\"Hello World\");"
   ]
  },
  {
   "cell_type": "markdown",
   "metadata": {},
   "source": [
    "Take User Input"
   ]
  },
  {
   "cell_type": "code",
   "execution_count": 3,
   "metadata": {
    "dotnet_interactive": {
     "language": "csharp"
    },
    "polyglot_notebook": {
     "kernelName": "csharp"
    },
    "vscode": {
     "languageId": "polyglot-notebook"
    }
   },
   "outputs": [
    {
     "name": "stdout",
     "output_type": "stream",
     "text": [
      "\r\n"
     ]
    }
   ],
   "source": [
    "var read = Console.ReadLine();\n",
    "Console.WriteLine(read);"
   ]
  },
  {
   "cell_type": "markdown",
   "metadata": {},
   "source": [
    "How To Comment"
   ]
  },
  {
   "cell_type": "code",
   "execution_count": 4,
   "metadata": {
    "dotnet_interactive": {
     "language": "csharp"
    },
    "polyglot_notebook": {
     "kernelName": "csharp"
    },
    "vscode": {
     "languageId": "polyglot-notebook"
    }
   },
   "outputs": [],
   "source": [
    "// double forward slash is used in commenting\n",
    "\n",
    "/* \n",
    "for Multi Line commenting\n",
    "*/"
   ]
  },
  {
   "cell_type": "markdown",
   "metadata": {},
   "source": [
    "Variable Declaration"
   ]
  },
  {
   "cell_type": "code",
   "execution_count": 5,
   "metadata": {
    "dotnet_interactive": {
     "language": "csharp"
    },
    "polyglot_notebook": {
     "kernelName": "csharp"
    },
    "vscode": {
     "languageId": "polyglot-notebook"
    }
   },
   "outputs": [],
   "source": [
    "string myName  = \"I String Variable In CSharp\";\n",
    "int myAge = 30;"
   ]
  },
  {
   "cell_type": "markdown",
   "metadata": {},
   "source": [
    "DataType"
   ]
  },
  {
   "cell_type": "code",
   "execution_count": 6,
   "metadata": {
    "dotnet_interactive": {
     "language": "csharp"
    },
    "polyglot_notebook": {
     "kernelName": "csharp"
    },
    "vscode": {
     "languageId": "polyglot-notebook"
    }
   },
   "outputs": [],
   "source": [
    "//Integers \n",
    "//Integers are whole numbers.\n",
    "int myAge = 30;\n",
    "\n",
    "// Floating Point Numbers\n",
    "\n",
    "float pi = 3.141f;\n",
    "\n",
    "// string \n",
    "// A string is just a string of characters.\n",
    "// It should be surrounded by double quotes or signle quote.\n",
    "string myName = \"Csharp\";"
   ]
  },
  {
   "cell_type": "markdown",
   "metadata": {},
   "source": [
    "String Concatenation"
   ]
  },
  {
   "cell_type": "code",
   "execution_count": 7,
   "metadata": {
    "dotnet_interactive": {
     "language": "csharp"
    },
    "polyglot_notebook": {
     "kernelName": "csharp"
    },
    "vscode": {
     "languageId": "polyglot-notebook"
    }
   },
   "outputs": [
    {
     "name": "stdout",
     "output_type": "stream",
     "text": [
      "Csharp  Not For Weak Heart"
     ]
    }
   ],
   "source": [
    "// string are not mutable in nature\n",
    "// any operation on it create new string\n",
    "\n",
    "string firstName = \"Csharp\";\n",
    "string lastName = \"Not For Weak Heart\";\n",
    "\n",
    "Console.Write(firstName+\"  \"+ lastName);"
   ]
  },
  {
   "cell_type": "markdown",
   "metadata": {},
   "source": [
    "Escaping a String"
   ]
  },
  {
   "cell_type": "code",
   "execution_count": 8,
   "metadata": {
    "dotnet_interactive": {
     "language": "csharp"
    },
    "polyglot_notebook": {
     "kernelName": "csharp"
    },
    "vscode": {
     "languageId": "polyglot-notebook"
    }
   },
   "outputs": [
    {
     "name": "stdout",
     "output_type": "stream",
     "text": [
      "Hi There! \"buddy\""
     ]
    }
   ],
   "source": [
    "string escapeMe = \"Hi There! \\\"buddy\\\"\";\n",
    "Console.Write(escapeMe);"
   ]
  },
  {
   "cell_type": "markdown",
   "metadata": {},
   "source": [
    "Format string or String Interpolation"
   ]
  },
  {
   "cell_type": "code",
   "execution_count": 9,
   "metadata": {
    "dotnet_interactive": {
     "language": "csharp"
    },
    "polyglot_notebook": {
     "kernelName": "csharp"
    },
    "vscode": {
     "languageId": "polyglot-notebook"
    }
   },
   "outputs": [
    {
     "name": "stdout",
     "output_type": "stream",
     "text": [
      "In printing using Csharp to print this sentence"
     ]
    }
   ],
   "source": [
    "string language = \"Csharp\";\n",
    "Console.Write($\"In printing using {language} to print this sentence\");"
   ]
  },
  {
   "cell_type": "markdown",
   "metadata": {},
   "source": [
    "Converting to another data type"
   ]
  },
  {
   "cell_type": "code",
   "execution_count": 10,
   "metadata": {
    "dotnet_interactive": {
     "language": "csharp"
    },
    "polyglot_notebook": {
     "kernelName": "csharp"
    },
    "vscode": {
     "languageId": "polyglot-notebook"
    }
   },
   "outputs": [
    {
     "name": "stdout",
     "output_type": "stream",
     "text": [
      "350\n",
      "350\n"
     ]
    }
   ],
   "source": [
    "int number = 350;\n",
    "Console.WriteLine(number);\n",
    "float newNumber = (float) number;\n",
    "Console.WriteLine(newNumber);"
   ]
  },
  {
   "cell_type": "markdown",
   "metadata": {},
   "source": [
    "Checking Data Types"
   ]
  },
  {
   "cell_type": "code",
   "execution_count": 11,
   "metadata": {
    "dotnet_interactive": {
     "language": "csharp"
    },
    "polyglot_notebook": {
     "kernelName": "csharp"
    },
    "vscode": {
     "languageId": "polyglot-notebook"
    }
   },
   "outputs": [
    {
     "name": "stdout",
     "output_type": "stream",
     "text": [
      "System.Double"
     ]
    }
   ],
   "source": [
    "var number = 3.141;\n",
    "Console.Write(number.GetType());"
   ]
  },
  {
   "cell_type": "markdown",
   "metadata": {},
   "source": [
    "Mathematics Operation"
   ]
  },
  {
   "cell_type": "code",
   "execution_count": 12,
   "metadata": {
    "dotnet_interactive": {
     "language": "csharp"
    },
    "polyglot_notebook": {
     "kernelName": "csharp"
    },
    "vscode": {
     "languageId": "polyglot-notebook"
    }
   },
   "outputs": [
    {
     "name": "stdout",
     "output_type": "stream",
     "text": [
      "5\n",
      "6\n",
      "1\n",
      "1.5\n",
      "9\n",
      "1\n",
      "1\n",
      "8\n"
     ]
    }
   ],
   "source": [
    "Console.WriteLine(3+2); // Add two number\n",
    "Console.WriteLine(3*2); // multiplying two number\n",
    "Console.WriteLine(3-2); // substract two Number\n",
    "Console.WriteLine(3/2.0); //  divide two number\n",
    "Console.WriteLine(Math.Pow(3,2)); // Exponent 3 to the power of 2\n",
    "Console.WriteLine(3/2); // output is 1\n",
    "Console.WriteLine(3%2); // module or to find remainder \n",
    "int a= 5;\n",
    "a+=3;\n",
    "Console.WriteLine(a);"
   ]
  },
  {
   "cell_type": "markdown",
   "metadata": {},
   "source": [
    "F U N C T I O N S"
   ]
  },
  {
   "cell_type": "code",
   "execution_count": 13,
   "metadata": {
    "dotnet_interactive": {
     "language": "csharp"
    },
    "polyglot_notebook": {
     "kernelName": "csharp"
    },
    "vscode": {
     "languageId": "polyglot-notebook"
    }
   },
   "outputs": [
    {
     "name": "stdout",
     "output_type": "stream",
     "text": [
      "Hello Buddy"
     ]
    }
   ],
   "source": [
    "// it can be defined anywhere dosent depend on \n",
    "Function();\n",
    "public void Function()\n",
    "{\n",
    "    Console.Write(\"Hello Buddy\");\n",
    "}"
   ]
  },
  {
   "cell_type": "markdown",
   "metadata": {},
   "source": [
    "Function With Parameter"
   ]
  },
  {
   "cell_type": "code",
   "execution_count": 14,
   "metadata": {
    "dotnet_interactive": {
     "language": "csharp"
    },
    "polyglot_notebook": {
     "kernelName": "csharp"
    },
    "vscode": {
     "languageId": "polyglot-notebook"
    }
   },
   "outputs": [
    {
     "name": "stdout",
     "output_type": "stream",
     "text": [
      "3 5\r\n"
     ]
    }
   ],
   "source": [
    "public void FunctionWithParameter(int n1, int n2)\n",
    "{\n",
    "    Console.WriteLine($\"{n1} {n2}\");\n",
    "}\n",
    "FunctionWithParameter(3,5);"
   ]
  },
  {
   "cell_type": "markdown",
   "metadata": {},
   "source": [
    "Function With return Type"
   ]
  },
  {
   "cell_type": "code",
   "execution_count": 15,
   "metadata": {
    "dotnet_interactive": {
     "language": "csharp"
    },
    "polyglot_notebook": {
     "kernelName": "csharp"
    },
    "vscode": {
     "languageId": "polyglot-notebook"
    }
   },
   "outputs": [
    {
     "name": "stdout",
     "output_type": "stream",
     "text": [
      "What"
     ]
    }
   ],
   "source": [
    "public string FunctionWithReturn()\n",
    "{\n",
    "    return \"What\";\n",
    "}\n",
    "string temp = FunctionWithReturn();\n",
    "Console.Write(temp);"
   ]
  },
  {
   "cell_type": "code",
   "execution_count": 16,
   "metadata": {
    "dotnet_interactive": {
     "language": "csharp"
    },
    "polyglot_notebook": {
     "kernelName": "csharp"
    },
    "vscode": {
     "languageId": "polyglot-notebook"
    }
   },
   "outputs": [
    {
     "name": "stdout",
     "output_type": "stream",
     "text": [
      "3\n",
      "5\n",
      "3\n",
      "5\n",
      "5\n"
     ]
    }
   ],
   "source": [
    "int n=3;\n",
    "public void FunctionScope()\n",
    "{\n",
    "    int n = 5; // new Decleration dosen't change the original data\n",
    "    Console.WriteLine(n);\n",
    "}\n",
    "\n",
    "\n",
    "Console.WriteLine(n);\n",
    "FunctionScope();\n",
    "Console.WriteLine(n);\n",
    "\n",
    "public void FunctionScopeAnotherVariant()\n",
    "{\n",
    "    n = 5; // Assignation change the original data\n",
    "    Console.WriteLine(n);\n",
    "}\n",
    "FunctionScopeAnotherVariant();\n",
    "Console.WriteLine(n);"
   ]
  },
  {
   "cell_type": "markdown",
   "metadata": {},
   "source": [
    "Keyword Arguments"
   ]
  },
  {
   "cell_type": "code",
   "execution_count": 17,
   "metadata": {
    "dotnet_interactive": {
     "language": "csharp"
    },
    "polyglot_notebook": {
     "kernelName": "csharp"
    },
    "vscode": {
     "languageId": "polyglot-notebook"
    }
   },
   "outputs": [
    {
     "name": "stdout",
     "output_type": "stream",
     "text": [
      "0.6666667\n",
      "1.5\n",
      "1.5\n"
     ]
    }
   ],
   "source": [
    "void Divide(float a, float b)\n",
    "{\n",
    "    Console.WriteLine(a/b);\n",
    "}\n",
    "\n",
    "Divide(2,3);\n",
    "Divide(a:3,b:2);\n",
    "Divide(b:2,a:3);"
   ]
  },
  {
   "cell_type": "markdown",
   "metadata": {},
   "source": [
    "C O N D I T I O N A L S"
   ]
  },
  {
   "cell_type": "code",
   "execution_count": 18,
   "metadata": {
    "dotnet_interactive": {
     "language": "csharp"
    },
    "polyglot_notebook": {
     "kernelName": "csharp"
    },
    "vscode": {
     "languageId": "polyglot-notebook"
    }
   },
   "outputs": [
    {
     "name": "stdout",
     "output_type": "stream",
     "text": [
      "The Value of A Is 5\n",
      "I am  5"
     ]
    }
   ],
   "source": [
    "int a = 5;\n",
    "\n",
    "if (a == 5)\n",
    "{\n",
    "    Console.WriteLine($\"The Value of A Is {a}\");\n",
    "\n",
    "    if (a  < 5)\n",
    "        Console.WriteLine(\"I Am Less Than 5\");\n",
    "    else if( a > 5)\n",
    "        Console.WriteLine(\"I am greater than 5\");\n",
    "    else \n",
    "        Console.Write(\"I am  5\");\n",
    "}"
   ]
  },
  {
   "cell_type": "code",
   "execution_count": 19,
   "metadata": {
    "dotnet_interactive": {
     "language": "csharp"
    },
    "polyglot_notebook": {
     "kernelName": "csharp"
    },
    "vscode": {
     "languageId": "polyglot-notebook"
    }
   },
   "outputs": [
    {
     "name": "stdout",
     "output_type": "stream",
     "text": [
      "4 is less than 5\r\n"
     ]
    }
   ],
   "source": [
    "int a = 4 ;\n",
    "int b = 5;\n",
    "if (a > 0 && b> a)\n",
    "    Console.WriteLine($\"{a} is less than {b}\");"
   ]
  },
  {
   "cell_type": "code",
   "execution_count": 20,
   "metadata": {
    "dotnet_interactive": {
     "language": "csharp"
    },
    "polyglot_notebook": {
     "kernelName": "csharp"
    },
    "vscode": {
     "languageId": "polyglot-notebook"
    }
   },
   "outputs": [
    {
     "name": "stdout",
     "output_type": "stream",
     "text": [
      "-1 or 5 is greater than 0\r\n"
     ]
    }
   ],
   "source": [
    "int a = -1;\n",
    "int b = 5;\n",
    "if (a > 0 || b> 0)\n",
    "    Console.WriteLine($\"{a} or {b} is greater than 0\");"
   ]
  },
  {
   "cell_type": "code",
   "execution_count": 21,
   "metadata": {
    "dotnet_interactive": {
     "language": "csharp"
    },
    "polyglot_notebook": {
     "kernelName": "csharp"
    },
    "vscode": {
     "languageId": "polyglot-notebook"
    }
   },
   "outputs": [
    {
     "name": "stdout",
     "output_type": "stream",
     "text": [
      "-1 and 5 are not equal\r\n"
     ]
    }
   ],
   "source": [
    "int a = -1;\n",
    "int b = 5;\n",
    "if (!(a == b))\n",
    "    Console.WriteLine($\"{a} and {b} are not equal\");"
   ]
  },
  {
   "cell_type": "markdown",
   "metadata": {},
   "source": [
    "L O O P S"
   ]
  },
  {
   "cell_type": "code",
   "execution_count": 22,
   "metadata": {
    "dotnet_interactive": {
     "language": "csharp"
    },
    "polyglot_notebook": {
     "kernelName": "csharp"
    },
    "vscode": {
     "languageId": "polyglot-notebook"
    }
   },
   "outputs": [
    {
     "name": "stdout",
     "output_type": "stream",
     "text": [
      "10"
     ]
    }
   ],
   "source": [
    "// While Loop\n",
    "int a =0;\n",
    "while (a < 10)\n",
    "    a =a+1;\n",
    "\n",
    "Console.Write(a);"
   ]
  },
  {
   "cell_type": "code",
   "execution_count": 23,
   "metadata": {
    "dotnet_interactive": {
     "language": "csharp"
    },
    "polyglot_notebook": {
     "kernelName": "csharp"
    },
    "vscode": {
     "languageId": "polyglot-notebook"
    }
   },
   "outputs": [
    {
     "name": "stdout",
     "output_type": "stream",
     "text": [
      "0 1 2 3 4 5 6 7 8 9 "
     ]
    }
   ],
   "source": [
    "// For Loop\n",
    "for(var i=0; i <10; i++)\n",
    "{\n",
    "    Console.Write(i + \" \");\n",
    "}"
   ]
  },
  {
   "cell_type": "code",
   "execution_count": 24,
   "metadata": {
    "dotnet_interactive": {
     "language": "csharp"
    },
    "polyglot_notebook": {
     "kernelName": "csharp"
    },
    "vscode": {
     "languageId": "polyglot-notebook"
    }
   },
   "outputs": [
    {
     "name": "stdout",
     "output_type": "stream",
     "text": [
      "Python Csharp Cplusplus "
     ]
    }
   ],
   "source": [
    "List<string> ls = new(){\"Python\",\"Csharp\",\"Cplusplus\"};\n",
    "\n",
    "foreach(var i in ls)\n",
    "{\n",
    "    Console.Write(i + \" \");\n",
    "}"
   ]
  },
  {
   "cell_type": "code",
   "execution_count": 25,
   "metadata": {
    "dotnet_interactive": {
     "language": "csharp"
    },
    "polyglot_notebook": {
     "kernelName": "csharp"
    },
    "vscode": {
     "languageId": "polyglot-notebook"
    }
   },
   "outputs": [
    {
     "name": "stdout",
     "output_type": "stream",
     "text": [
      "Python Csharp Cplusplus "
     ]
    }
   ],
   "source": [
    "List<string> ls = new(){\"Python\",\"Csharp\",\"Cplusplus\",\"Java\"};\n",
    "\n",
    "foreach(var i in ls)\n",
    "{\n",
    "    Console.Write(i + \" \");\n",
    "    if(i==\"Cplusplus\")\n",
    "        break;\n",
    "}"
   ]
  },
  {
   "cell_type": "code",
   "execution_count": 26,
   "metadata": {
    "dotnet_interactive": {
     "language": "csharp"
    },
    "polyglot_notebook": {
     "kernelName": "csharp"
    },
    "vscode": {
     "languageId": "polyglot-notebook"
    }
   },
   "outputs": [
    {
     "name": "stdout",
     "output_type": "stream",
     "text": [
      "Python Csharp Cplusplus "
     ]
    }
   ],
   "source": [
    "List<string> ls = new(){\"Python\",\"Csharp\",\"Java\",\"Cplusplus\"};\n",
    "\n",
    "foreach(var i in ls)\n",
    "{\n",
    "    if(i==\"Java\")\n",
    "        continue;\n",
    "    Console.Write(i + \" \");\n",
    "}"
   ]
  },
  {
   "cell_type": "code",
   "execution_count": 27,
   "metadata": {
    "dotnet_interactive": {
     "language": "csharp"
    },
    "polyglot_notebook": {
     "kernelName": "csharp"
    },
    "vscode": {
     "languageId": "polyglot-notebook"
    }
   },
   "outputs": [],
   "source": [
    "int a=0; // if a is 1 or grater it will be infinte Loop\n",
    "while (a > 0)\n",
    "    Console.Write(a);"
   ]
  },
  {
   "cell_type": "markdown",
   "metadata": {},
   "source": [
    "L I S T M E T H O D S"
   ]
  },
  {
   "cell_type": "markdown",
   "metadata": {},
   "source": [
    "Adding Lists Together"
   ]
  },
  {
   "cell_type": "code",
   "execution_count": 28,
   "metadata": {
    "dotnet_interactive": {
     "language": "csharp"
    },
    "polyglot_notebook": {
     "kernelName": "csharp"
    },
    "vscode": {
     "languageId": "polyglot-notebook"
    }
   },
   "outputs": [
    {
     "name": "stdout",
     "output_type": "stream",
     "text": [
      "1 2 3 4 5\n",
      "6 7 8 9 0\n",
      "1 2 3 4 5 6 7 8 9 0\n"
     ]
    }
   ],
   "source": [
    "List<int> one = new (){1,2,3,4,5};\n",
    "List<int> two = new (){6,7,8,9,0};\n",
    "List<int> three = new (one);\n",
    "foreach(var i in two)\n",
    "    three.Add(i);\n",
    "Console.WriteLine(string.Join(\" \",one));\n",
    "Console.WriteLine(string.Join(\" \",two));\n",
    "Console.WriteLine(string.Join(\" \",three));"
   ]
  },
  {
   "cell_type": "markdown",
   "metadata": {},
   "source": [
    "Adding an Item to a List"
   ]
  },
  {
   "cell_type": "code",
   "execution_count": 29,
   "metadata": {
    "dotnet_interactive": {
     "language": "csharp"
    },
    "polyglot_notebook": {
     "kernelName": "csharp"
    },
    "vscode": {
     "languageId": "polyglot-notebook"
    }
   },
   "outputs": [
    {
     "name": "stdout",
     "output_type": "stream",
     "text": [
      "1 2 3 4 5\n",
      "1 2 3 4 5 6\n"
     ]
    }
   ],
   "source": [
    "List<int> one = new (){1,2,3,4,5};\n",
    "Console.WriteLine(string.Join(\" \",one));\n",
    "one.Add(6);\n",
    "Console.WriteLine(string.Join(\" \",one));"
   ]
  },
  {
   "cell_type": "code",
   "execution_count": 30,
   "metadata": {
    "dotnet_interactive": {
     "language": "csharp"
    },
    "polyglot_notebook": {
     "kernelName": "csharp"
    },
    "vscode": {
     "languageId": "polyglot-notebook"
    }
   },
   "outputs": [
    {
     "name": "stdout",
     "output_type": "stream",
     "text": [
      "5\n",
      "5\n"
     ]
    }
   ],
   "source": [
    "List<int> one = new (){1,2,3,4,5};\n",
    "Console.WriteLine(one[^1]); // will not Work with Older version of C#\n",
    "\n",
    "Console.WriteLine(one[one.Count-1]);"
   ]
  },
  {
   "cell_type": "markdown",
   "metadata": {},
   "source": [
    "List Slicing"
   ]
  },
  {
   "cell_type": "code",
   "execution_count": 31,
   "metadata": {
    "dotnet_interactive": {
     "language": "csharp"
    },
    "polyglot_notebook": {
     "kernelName": "csharp"
    },
    "vscode": {
     "languageId": "polyglot-notebook"
    }
   },
   "outputs": [
    {
     "name": "stdout",
     "output_type": "stream",
     "text": [
      "3 4 5 6\r\n"
     ]
    }
   ],
   "source": [
    "List<int> one = new(){0,1,2,3,4,5,6,7,8,9};\n",
    "\n",
    "Console.WriteLine(string.Join(\" \",one.Skip(3).Take(7-3).ToList()));"
   ]
  },
  {
   "cell_type": "markdown",
   "metadata": {},
   "source": [
    "Some in built Function"
   ]
  },
  {
   "cell_type": "code",
   "execution_count": 32,
   "metadata": {
    "dotnet_interactive": {
     "language": "csharp"
    },
    "polyglot_notebook": {
     "kernelName": "csharp"
    },
    "vscode": {
     "languageId": "polyglot-notebook"
    }
   },
   "outputs": [
    {
     "name": "stdout",
     "output_type": "stream",
     "text": [
      "1274"
     ]
    }
   ],
   "source": [
    "int a=0;\n",
    "foreach( var i in Enumerable.Range(2,49))\n",
    "{\n",
    "    a+=i;\n",
    "}\n",
    "Console.Write(a)"
   ]
  },
  {
   "cell_type": "code",
   "execution_count": 33,
   "metadata": {
    "dotnet_interactive": {
     "language": "csharp"
    },
    "polyglot_notebook": {
     "kernelName": "csharp"
    },
    "vscode": {
     "languageId": "polyglot-notebook"
    }
   },
   "outputs": [
    {
     "name": "stdout",
     "output_type": "stream",
     "text": [
      "49"
     ]
    }
   ],
   "source": [
    "var random  = new Random();\n",
    "\n",
    "Console.Write(random.Next(0,100));"
   ]
  },
  {
   "cell_type": "code",
   "execution_count": 34,
   "metadata": {
    "dotnet_interactive": {
     "language": "csharp"
    },
    "polyglot_notebook": {
     "kernelName": "csharp"
    },
    "vscode": {
     "languageId": "polyglot-notebook"
    }
   },
   "outputs": [
    {
     "name": "stdout",
     "output_type": "stream",
     "text": [
      "34.57"
     ]
    }
   ],
   "source": [
    "float a = 34.567f;\n",
    "\n",
    "Console.Write(Math.Round(a,2))"
   ]
  },
  {
   "cell_type": "code",
   "execution_count": 35,
   "metadata": {
    "dotnet_interactive": {
     "language": "csharp"
    },
    "polyglot_notebook": {
     "kernelName": "csharp"
    },
    "vscode": {
     "languageId": "polyglot-notebook"
    }
   },
   "outputs": [
    {
     "name": "stdout",
     "output_type": "stream",
     "text": [
      "12233"
     ]
    }
   ],
   "source": [
    "int a = -12233;\n",
    "\n",
    "Console.Write(Math.Abs(a));"
   ]
  },
  {
   "cell_type": "markdown",
   "metadata": {},
   "source": [
    "C L A S S E S & O B J E C T S"
   ]
  },
  {
   "cell_type": "code",
   "execution_count": 36,
   "metadata": {
    "dotnet_interactive": {
     "language": "csharp"
    },
    "polyglot_notebook": {
     "kernelName": "csharp"
    },
    "vscode": {
     "languageId": "polyglot-notebook"
    }
   },
   "outputs": [
    {
     "name": "stdout",
     "output_type": "stream",
     "text": [
      "No Name Given To Me\n",
      "Csharp\n",
      "Csharp Language"
     ]
    }
   ],
   "source": [
    "public class Person \n",
    "{\n",
    "    public string language =\"Csharp Language\"; //Class Variables\n",
    "    string name;\n",
    "    // The Constructor (Default method)  is called \n",
    "    // every time a new object is created from the class\n",
    "    public Person()\n",
    "    {\n",
    "        name = \"No Name Given To Me\";\n",
    "    }\n",
    "    public void GiveNameToMe(string name)\n",
    "    {\n",
    "        this.name = name;\n",
    "    }\n",
    "    public void MyNameIs()\n",
    "    {\n",
    "        Console.WriteLine(name);\n",
    "    }\n",
    "}\n",
    "\n",
    "var pers = new Person();\n",
    "pers.MyNameIs();\n",
    "pers.GiveNameToMe(\"Csharp\");\n",
    "pers.MyNameIs();\n",
    "Console.Write(pers.language);"
   ]
  },
  {
   "cell_type": "markdown",
   "metadata": {},
   "source": [
    "Inheritance"
   ]
  },
  {
   "cell_type": "code",
   "execution_count": 37,
   "metadata": {
    "dotnet_interactive": {
     "language": "csharp"
    },
    "polyglot_notebook": {
     "kernelName": "csharp"
    },
    "vscode": {
     "languageId": "polyglot-notebook"
    }
   },
   "outputs": [
    {
     "name": "stdout",
     "output_type": "stream",
     "text": [
      "Breathing\n",
      "UnderWater\n"
     ]
    }
   ],
   "source": [
    "public class Animals\n",
    "{\n",
    "    public  virtual void Breathe()\n",
    "    {\n",
    "        Console.WriteLine(\"Breathing\");\n",
    "    }\n",
    "}\n",
    "\n",
    "public class Fish : Animals\n",
    "{\n",
    "    public override void Breathe()\n",
    "    {\n",
    "        base.Breathe();\n",
    "        Console.WriteLine(\"UnderWater\");\n",
    "    }\n",
    "}\n",
    "\n",
    "var nemo = new Fish();\n",
    "nemo.Breathe();"
   ]
  }
 ],
 "metadata": {
  "language_info": {
   "name": "python"
  }
 },
 "nbformat": 4,
 "nbformat_minor": 2
}
