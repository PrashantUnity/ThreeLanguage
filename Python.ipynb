{
 "cells": [
  {
   "cell_type": "markdown",
   "metadata": {},
   "source": [
    "Prints a something into the console."
   ]
  },
  {
   "cell_type": "code",
   "execution_count": 111,
   "metadata": {},
   "outputs": [
    {
     "name": "stdout",
     "output_type": "stream",
     "text": [
      "Hello World\n"
     ]
    }
   ],
   "source": [
    "print(\"Hello World\")"
   ]
  },
  {
   "cell_type": "markdown",
   "metadata": {},
   "source": [
    "Take User Input"
   ]
  },
  {
   "cell_type": "code",
   "execution_count": 112,
   "metadata": {},
   "outputs": [
    {
     "name": "stdout",
     "output_type": "stream",
     "text": [
      "45654\n"
     ]
    }
   ],
   "source": [
    "read = input(\"WriteSomeThing To Console\")\n",
    "print(read)"
   ]
  },
  {
   "cell_type": "markdown",
   "metadata": {},
   "source": [
    "How To Comment"
   ]
  },
  {
   "cell_type": "code",
   "execution_count": 113,
   "metadata": {},
   "outputs": [],
   "source": [
    "# Hastag is used in python for commenting\n",
    "# compile ingnore comments"
   ]
  },
  {
   "cell_type": "markdown",
   "metadata": {},
   "source": [
    "Variable Declaration"
   ]
  },
  {
   "cell_type": "code",
   "execution_count": 114,
   "metadata": {},
   "outputs": [],
   "source": [
    "# in python there is no need to be specifice \n",
    "# about data type of variable\n",
    "\n",
    "myName = \"I am in str variable decleration in python\"\n",
    "myAge = 30"
   ]
  },
  {
   "cell_type": "markdown",
   "metadata": {},
   "source": [
    "DataType"
   ]
  },
  {
   "cell_type": "code",
   "execution_count": 115,
   "metadata": {},
   "outputs": [],
   "source": [
    "# Integers \n",
    "# Integers are whole numbers.\n",
    "myAge = 30\n",
    "\n",
    "# Floating Point Numbers\n",
    "\n",
    "pi = 3.141\n",
    "\n",
    "# String \n",
    "# A string is just a string of characters.\n",
    "# It should be surrounded by double quotes or signle quote.\n",
    "\n",
    "myName = \"Python\"\n"
   ]
  },
  {
   "cell_type": "markdown",
   "metadata": {},
   "source": [
    "String Concatenation"
   ]
  },
  {
   "cell_type": "code",
   "execution_count": 116,
   "metadata": {},
   "outputs": [
    {
     "name": "stdout",
     "output_type": "stream",
     "text": [
      "Python Noob Freindly \n"
     ]
    }
   ],
   "source": [
    "# String not Mutable  nature in Python\n",
    "# any operation on it create new string\n",
    "\n",
    "firstName = \"Python\"\n",
    "lastName = \"Noob Freindly \"\n",
    "\n",
    "print(firstName+ \" \" + lastName)"
   ]
  },
  {
   "cell_type": "markdown",
   "metadata": {},
   "source": [
    "Escaping a String"
   ]
  },
  {
   "cell_type": "code",
   "execution_count": 117,
   "metadata": {},
   "outputs": [
    {
     "name": "stdout",
     "output_type": "stream",
     "text": [
      "Hi There! \"buddy\"\n"
     ]
    }
   ],
   "source": [
    "escapeMe = \"Hi There! \\\"buddy\\\"\"\n",
    "print(escapeMe)"
   ]
  },
  {
   "cell_type": "markdown",
   "metadata": {},
   "source": [
    "Format string or String Interpolation"
   ]
  },
  {
   "cell_type": "code",
   "execution_count": 118,
   "metadata": {},
   "outputs": [
    {
     "name": "stdout",
     "output_type": "stream",
     "text": [
      "In printing using Python to print this sentence\n"
     ]
    }
   ],
   "source": [
    "language = \"Python\"\n",
    "\n",
    "print(f\"In printing using {language} to print this sentence\")"
   ]
  },
  {
   "cell_type": "markdown",
   "metadata": {},
   "source": [
    "Converting to another data type"
   ]
  },
  {
   "cell_type": "code",
   "execution_count": 119,
   "metadata": {},
   "outputs": [
    {
     "name": "stdout",
     "output_type": "stream",
     "text": [
      "350\n",
      "350.0\n"
     ]
    }
   ],
   "source": [
    "number  = 350\n",
    "print(number)\n",
    "newNumber = float(number)\n",
    "print(newNumber)"
   ]
  },
  {
   "cell_type": "markdown",
   "metadata": {},
   "source": [
    "Checking Data Types"
   ]
  },
  {
   "cell_type": "code",
   "execution_count": 120,
   "metadata": {},
   "outputs": [
    {
     "name": "stdout",
     "output_type": "stream",
     "text": [
      "<class 'float'>\n"
     ]
    }
   ],
   "source": [
    "number = 3.141\n",
    "\n",
    "print(type(number))"
   ]
  },
  {
   "cell_type": "markdown",
   "metadata": {},
   "source": [
    "Mathematics Operation"
   ]
  },
  {
   "cell_type": "code",
   "execution_count": 121,
   "metadata": {},
   "outputs": [
    {
     "name": "stdout",
     "output_type": "stream",
     "text": [
      "5\n",
      "6\n",
      "1\n",
      "1.5\n",
      "9\n",
      "1\n",
      "1\n",
      "8\n"
     ]
    }
   ],
   "source": [
    "print(3+2) # Add two number\n",
    "print(3*2) # multiplying two number\n",
    "print(3-2) # substract two Number\n",
    "print(3/2) # divide two number\n",
    "print(3**2) # Exponent 3 to the power of 2\n",
    "print(3%2) # module or to find remainder\n",
    "print(3//2) # \n",
    "a =5\n",
    "a+=3; # sort Form Of a = a+3\n",
    "print(a) "
   ]
  },
  {
   "cell_type": "markdown",
   "metadata": {},
   "source": [
    "F U N C T I O N S"
   ]
  },
  {
   "cell_type": "code",
   "execution_count": 122,
   "metadata": {},
   "outputs": [
    {
     "name": "stdout",
     "output_type": "stream",
     "text": [
      "Hello buddy "
     ]
    }
   ],
   "source": [
    "# function must be declared before caling \n",
    "def Function():\n",
    "    print(\"Hello buddy \", end=\"\")\n",
    "\n",
    "Function()"
   ]
  },
  {
   "cell_type": "markdown",
   "metadata": {},
   "source": [
    "Function With Parameter"
   ]
  },
  {
   "cell_type": "code",
   "execution_count": 123,
   "metadata": {},
   "outputs": [
    {
     "name": "stdout",
     "output_type": "stream",
     "text": [
      "3 5\n"
     ]
    }
   ],
   "source": [
    "def FunctionWithParamter(n1,n2):\n",
    "    print(n1,n2)\n",
    "\n",
    "FunctionWithParamter(3,5)"
   ]
  },
  {
   "cell_type": "markdown",
   "metadata": {},
   "source": [
    "Function With return Type"
   ]
  },
  {
   "cell_type": "code",
   "execution_count": 124,
   "metadata": {},
   "outputs": [
    {
     "name": "stdout",
     "output_type": "stream",
     "text": [
      "What\n"
     ]
    }
   ],
   "source": [
    "def FunctionWithReturn()->str:\n",
    "    return \"What\"\n",
    "\n",
    "temp = FunctionWithReturn()\n",
    "print(temp )"
   ]
  },
  {
   "cell_type": "markdown",
   "metadata": {},
   "source": [
    "Variable Scope"
   ]
  },
  {
   "cell_type": "code",
   "execution_count": 125,
   "metadata": {},
   "outputs": [
    {
     "name": "stdout",
     "output_type": "stream",
     "text": [
      "3\n",
      "5\n",
      "3\n"
     ]
    }
   ],
   "source": [
    "n =3\n",
    "def FunctionScope():\n",
    "    n =5\n",
    "    print(n)\n",
    "\n",
    "print(n)\n",
    "FunctionScope()\n",
    "print(n)"
   ]
  },
  {
   "cell_type": "markdown",
   "metadata": {},
   "source": [
    "Keyword Arguments"
   ]
  },
  {
   "cell_type": "code",
   "execution_count": 126,
   "metadata": {},
   "outputs": [
    {
     "name": "stdout",
     "output_type": "stream",
     "text": [
      "0.6666666666666666\n",
      "1.5\n",
      "1.5\n"
     ]
    }
   ],
   "source": [
    "def Divide(a,b):\n",
    "    print(a/b)\n",
    "\n",
    "Divide(2,3);\n",
    "Divide(a=3,b=2)\n",
    "Divide(b=2,a=3)"
   ]
  },
  {
   "cell_type": "markdown",
   "metadata": {},
   "source": [
    "C O N D I T I O N A L S"
   ]
  },
  {
   "cell_type": "code",
   "execution_count": 127,
   "metadata": {},
   "outputs": [
    {
     "name": "stdout",
     "output_type": "stream",
     "text": [
      "The Value of A Is 5\n",
      "I am  5\n"
     ]
    }
   ],
   "source": [
    "a = 5\n",
    "\n",
    "if a == 5:\n",
    "    print(f\"The Value of A Is {a}\")\n",
    "\n",
    "    if a  < 5 :\n",
    "        print(\"I Am Less Than 5\")\n",
    "    elif a > 5:\n",
    "        print(\"I am greater than 5\")\n",
    "    else :\n",
    "        print(\"I am  5\")"
   ]
  },
  {
   "cell_type": "code",
   "execution_count": 128,
   "metadata": {},
   "outputs": [
    {
     "name": "stdout",
     "output_type": "stream",
     "text": [
      "4 is less than 5\n"
     ]
    }
   ],
   "source": [
    "a = 4 \n",
    "b = 5\n",
    "if a > 0 and b> a:\n",
    "    print(f\"{a} is less than {b}\")"
   ]
  },
  {
   "cell_type": "code",
   "execution_count": 129,
   "metadata": {},
   "outputs": [
    {
     "name": "stdout",
     "output_type": "stream",
     "text": [
      "-1 or 5 is greater than 0\n"
     ]
    }
   ],
   "source": [
    "a = -1 \n",
    "b = 5\n",
    "if a > 0  or b> 0:\n",
    "    print(f\"{a} or {b} is greater than 0\")"
   ]
  },
  {
   "cell_type": "code",
   "execution_count": 130,
   "metadata": {},
   "outputs": [
    {
     "name": "stdout",
     "output_type": "stream",
     "text": [
      "-1 and 5 are not equal\n"
     ]
    }
   ],
   "source": [
    "a = -1 \n",
    "b = 5\n",
    "if not a == b:\n",
    "    print(f\"{a} and {b} are not equal\")"
   ]
  },
  {
   "cell_type": "markdown",
   "metadata": {},
   "source": [
    "L O O P S"
   ]
  },
  {
   "cell_type": "code",
   "execution_count": 131,
   "metadata": {},
   "outputs": [
    {
     "name": "stdout",
     "output_type": "stream",
     "text": [
      "10\n"
     ]
    }
   ],
   "source": [
    "# While Loop\n",
    "a =0\n",
    "while a < 10:\n",
    "    a =a+1\n",
    "\n",
    "print(a)"
   ]
  },
  {
   "cell_type": "code",
   "execution_count": 132,
   "metadata": {},
   "outputs": [
    {
     "name": "stdout",
     "output_type": "stream",
     "text": [
      "0 1 2 3 4 5 6 7 8 9 "
     ]
    }
   ],
   "source": [
    "# For loop\n",
    "\n",
    "for i in range(10):\n",
    "    print(i, end=\" \");"
   ]
  },
  {
   "cell_type": "markdown",
   "metadata": {},
   "source": [
    "Iterate through each item in list"
   ]
  },
  {
   "cell_type": "code",
   "execution_count": 133,
   "metadata": {},
   "outputs": [
    {
     "name": "stdout",
     "output_type": "stream",
     "text": [
      "Python Csharp Cplusplus "
     ]
    }
   ],
   "source": [
    "ls = [\"Python\",\"Csharp\",\"Cplusplus\"]\n",
    "for i in ls:\n",
    "    print(i, end=\" \")"
   ]
  },
  {
   "cell_type": "code",
   "execution_count": 134,
   "metadata": {},
   "outputs": [
    {
     "name": "stdout",
     "output_type": "stream",
     "text": [
      "Python Csharp Cplusplus "
     ]
    }
   ],
   "source": [
    "ls = [\"Python\",\"Csharp\",\"Cplusplus\",\"Java\"]\n",
    "for i in ls:\n",
    "    print(i, end=\" \")\n",
    "    if i == \"Cplusplus\":\n",
    "        break"
   ]
  },
  {
   "cell_type": "code",
   "execution_count": 135,
   "metadata": {},
   "outputs": [
    {
     "name": "stdout",
     "output_type": "stream",
     "text": [
      "Python Csharp Cplusplus "
     ]
    }
   ],
   "source": [
    "ls = [\"Python\",\"Csharp\",\"Java\",\"Cplusplus\"]\n",
    "for i in ls:\n",
    "    if i == \"Java\":\n",
    "        continue\n",
    "    print(i, end=\" \")"
   ]
  },
  {
   "cell_type": "code",
   "execution_count": 136,
   "metadata": {},
   "outputs": [],
   "source": [
    "\n",
    "# infinite Loop\n",
    "\n",
    "a=0; # if a is 1 or grater it will be infinte Loop\n",
    "while a > 0:\n",
    "    print(a);"
   ]
  },
  {
   "cell_type": "markdown",
   "metadata": {},
   "source": [
    "L I S T M E T H O D S"
   ]
  },
  {
   "cell_type": "markdown",
   "metadata": {},
   "source": [
    "Adding Lists Together"
   ]
  },
  {
   "cell_type": "code",
   "execution_count": 137,
   "metadata": {},
   "outputs": [
    {
     "name": "stdout",
     "output_type": "stream",
     "text": [
      "[1, 2, 3, 4, 5]\n",
      "[6, 7, 8, 9, 0]\n",
      "[1, 2, 3, 4, 5, 6, 7, 8, 9, 0]\n"
     ]
    }
   ],
   "source": [
    "one  = [1,2,3,4,5]\n",
    "two = [6,7,8,9,0]\n",
    "three = one + two\n",
    "\n",
    "print(one)\n",
    "print(two)\n",
    "print(three)"
   ]
  },
  {
   "cell_type": "markdown",
   "metadata": {},
   "source": [
    "Adding an Item to a List"
   ]
  },
  {
   "cell_type": "code",
   "execution_count": 138,
   "metadata": {},
   "outputs": [
    {
     "name": "stdout",
     "output_type": "stream",
     "text": [
      "[1, 2, 3, 4, 5]\n",
      "[1, 2, 3, 4, 5, 6]\n"
     ]
    }
   ],
   "source": [
    "one  = [1,2,3,4,5]\n",
    "print(one)\n",
    "one.append(6) \n",
    "print(one)"
   ]
  },
  {
   "cell_type": "markdown",
   "metadata": {},
   "source": [
    "List Index"
   ]
  },
  {
   "cell_type": "code",
   "execution_count": 139,
   "metadata": {},
   "outputs": [
    {
     "name": "stdout",
     "output_type": "stream",
     "text": [
      "5\n"
     ]
    }
   ],
   "source": [
    "one  = [1,2,3,4,5]\n",
    "print(one[-1])"
   ]
  },
  {
   "cell_type": "markdown",
   "metadata": {},
   "source": [
    "List Slicing"
   ]
  },
  {
   "cell_type": "code",
   "execution_count": 140,
   "metadata": {},
   "outputs": [
    {
     "name": "stdout",
     "output_type": "stream",
     "text": [
      "[3, 4, 5, 6]\n"
     ]
    }
   ],
   "source": [
    "#list[start:end]\n",
    "\n",
    "one  = [0,1,2,3,4,5,6,7,8,9]\n",
    "print(one[3:7])"
   ]
  },
  {
   "cell_type": "markdown",
   "metadata": {},
   "source": [
    "Some in built Function"
   ]
  },
  {
   "cell_type": "code",
   "execution_count": 141,
   "metadata": {},
   "outputs": [
    {
     "name": "stdout",
     "output_type": "stream",
     "text": [
      "1274\n"
     ]
    }
   ],
   "source": [
    "# range\n",
    "a =0 \n",
    "for i in range(2,51):\n",
    "    a+=i\n",
    "print(a)"
   ]
  },
  {
   "cell_type": "code",
   "execution_count": 142,
   "metadata": {},
   "outputs": [
    {
     "name": "stdout",
     "output_type": "stream",
     "text": [
      "80\n"
     ]
    }
   ],
   "source": [
    "# random\n",
    "import random\n",
    "print(random.randint(0,100))"
   ]
  },
  {
   "cell_type": "code",
   "execution_count": 143,
   "metadata": {},
   "outputs": [
    {
     "name": "stdout",
     "output_type": "stream",
     "text": [
      "34.57\n"
     ]
    }
   ],
   "source": [
    "# round \n",
    "a = 34.567\n",
    "print(round(a,2))"
   ]
  },
  {
   "cell_type": "code",
   "execution_count": 144,
   "metadata": {},
   "outputs": [
    {
     "name": "stdout",
     "output_type": "stream",
     "text": [
      "12233\n"
     ]
    }
   ],
   "source": [
    "# abs Value\n",
    "a = -12233\n",
    "\n",
    "print(abs(a))"
   ]
  },
  {
   "cell_type": "markdown",
   "metadata": {},
   "source": [
    "C L A S S E S & O B J E C T S"
   ]
  },
  {
   "cell_type": "code",
   "execution_count": 145,
   "metadata": {},
   "outputs": [
    {
     "name": "stdout",
     "output_type": "stream",
     "text": [
      "No Name Given to Me\n",
      "Python\n",
      "Python Langage\n"
     ]
    }
   ],
   "source": [
    "# class\n",
    "\n",
    "class Person:\n",
    "    language=\"Python Langage\" #Class Variables\n",
    "    # The init method is called \n",
    "    # every time a new object is created from the class\n",
    "    def __init__(self): \n",
    "        self.name =\"No Name Given to Me\"\n",
    "    def giveNameToMe(self,name): # Class Methods\n",
    "        self.name = name\n",
    "    def myNameis(self):  # Class Methods\n",
    "        print(self.name)\n",
    "\n",
    "\n",
    "pers = Person() # Creating an Object from a Class\n",
    "pers.myNameis()\n",
    "pers.giveNameToMe(\"Python\")\n",
    "pers.myNameis()\n",
    "print(pers.language)"
   ]
  },
  {
   "cell_type": "markdown",
   "metadata": {},
   "source": [
    "Inheritance"
   ]
  },
  {
   "cell_type": "code",
   "execution_count": 146,
   "metadata": {},
   "outputs": [
    {
     "name": "stdout",
     "output_type": "stream",
     "text": [
      "Breathing\n",
      "Underwater\n"
     ]
    }
   ],
   "source": [
    "class Animal:\n",
    "    def breathe(self):\n",
    "        print(\"Breathing\")\n",
    "class Fish(Animal):\n",
    "    def breathe(self):\n",
    "        super().breathe()\n",
    "        print(\"Underwater\")\n",
    "\n",
    "nemo = Fish()\n",
    "nemo.breathe()"
   ]
  }
 ],
 "metadata": {
  "kernelspec": {
   "display_name": "Python 3",
   "language": "python",
   "name": "python3"
  },
  "language_info": {
   "codemirror_mode": {
    "name": "ipython",
    "version": 3
   },
   "file_extension": ".py",
   "mimetype": "text/x-python",
   "name": "python",
   "nbconvert_exporter": "python",
   "pygments_lexer": "ipython3",
   "version": "3.10.4"
  }
 },
 "nbformat": 4,
 "nbformat_minor": 2
}
